{
 "cells": [
  {
   "cell_type": "code",
   "execution_count": 177,
   "id": "346f25e4",
   "metadata": {},
   "outputs": [],
   "source": [
    "import numpy as np\n",
    "import matplotlib.pyplot as plt\n",
    "import random\n",
    "import csv"
   ]
  },
  {
   "cell_type": "markdown",
   "id": "0a31cdf8",
   "metadata": {},
   "source": [
    "# Hostels"
   ]
  },
  {
   "cell_type": "markdown",
   "id": "44e0833f",
   "metadata": {},
   "source": [
    "The file lights-count-hostel.csv has a count of lights only for Hostel 5 and 7. Simply multiplying this count by 2 will give us an order of magnitude count of the total lights in all hostels."
   ]
  },
  {
   "cell_type": "code",
   "execution_count": 178,
   "id": "05e1f31d",
   "metadata": {},
   "outputs": [],
   "source": [
    "file_1 = open('lights-count-hostel.csv')\n",
    "csvreader = csv.reader(file_1)\n",
    "rows = []\n",
    "for row in csvreader:\n",
    "        rows.append(row)\n",
    "lights_count_hostel = np.array(rows).astype('float64')*2"
   ]
  },
  {
   "cell_type": "code",
   "execution_count": 179,
   "id": "3d4a8416",
   "metadata": {},
   "outputs": [],
   "source": [
    "file_2 = open('lights-time-hostel.csv')\n",
    "csvreader = csv.reader(file_2)\n",
    "rows = []\n",
    "for row in csvreader:\n",
    "        rows.append(row)\n",
    "lights_time_hostel = np.array(rows).astype('float64')"
   ]
  },
  {
   "cell_type": "code",
   "execution_count": 180,
   "id": "f78a85cb",
   "metadata": {},
   "outputs": [],
   "source": [
    "file_3 = open('lights-power-rating-hostel.csv')\n",
    "csvreader = csv.reader(file_3)\n",
    "rows = []\n",
    "for row in csvreader:\n",
    "        rows.append(row)\n",
    "lights_power_rating_hostel = np.array(rows).astype('float64')"
   ]
  },
  {
   "cell_type": "code",
   "execution_count": 181,
   "id": "1f6b4401",
   "metadata": {},
   "outputs": [],
   "source": [
    "energy_consumption_hostel_array = np.multiply(np.multiply(lights_count_hostel, lights_time_hostel), lights_power_rating_hostel)"
   ]
  },
  {
   "cell_type": "code",
   "execution_count": 182,
   "id": "c6f72d1d",
   "metadata": {},
   "outputs": [
    {
     "data": {
      "text/plain": [
       "array([120384. ,      0. , 127344. ,  63360. ,  98514. ,  38880. ,\n",
       "            0. , 138240. , 290304. ,  21798.4])"
      ]
     },
     "execution_count": 182,
     "metadata": {},
     "output_type": "execute_result"
    }
   ],
   "source": [
    "total_for_each_light_type_hostel = np.sum(energy_consumption_hostel_array, axis =0)\n",
    "total_for_each_light_type_hostel"
   ]
  },
  {
   "cell_type": "code",
   "execution_count": 183,
   "id": "a57ecbc3",
   "metadata": {},
   "outputs": [
    {
     "data": {
      "text/plain": [
       "898.8244"
      ]
     },
     "execution_count": 183,
     "metadata": {},
     "output_type": "execute_result"
    }
   ],
   "source": [
    "total_hostel = np.sum(energy_consumption_hostel_array)\n",
    "total_hostel/1000"
   ]
  },
  {
   "cell_type": "markdown",
   "id": "405b4a91",
   "metadata": {},
   "source": [
    "What if we switch to LED alternatives? \n",
    "\n",
    "We keep the lights_count and the lights_time matrices as the same. We simply modify the lights_power_rating matrix with the power ratings of LED alternatives.\n",
    "\n",
    "1. Replace 4 x $T$ with 2 x $L$.\n",
    "2. Replace 2 x $H$ with 2 x $L$.\n",
    "3. Replace $T$ with $L$.\n",
    "4. Replace $C_9$ and $\\alpha^2$ with 5 W mini LED tubes.\n",
    "5. Replace $D$, $U$ and $C_{13}$ with 9 W small LED."
   ]
  },
  {
   "cell_type": "code",
   "execution_count": 193,
   "id": "65dcfad3",
   "metadata": {},
   "outputs": [],
   "source": [
    "lights_power_rating_hostel_improved = lights_power_rating_hostel\n",
    "lights_power_rating_hostel_improved[:, 0] = np.full(len(lights_power_rating_hostel[:, 0]), 36)\n",
    "lights_power_rating_hostel_improved[:, 1] = np.full(len(lights_power_rating_hostel[:, 0]), 36)\n",
    "lights_power_rating_hostel_improved[:, 2] = np.full(len(lights_power_rating_hostel[:, 0]), 18)\n",
    "lights_power_rating_hostel_improved[:, 6] = np.full(len(lights_power_rating_hostel[:, 0]), 5)\n",
    "lights_power_rating_hostel_improved[:, 8] = np.full(len(lights_power_rating_hostel[:, 0]), 5)\n",
    "lights_power_rating_hostel_improved[:, 3] = np.full(len(lights_power_rating_hostel[:, 0]), 9)\n",
    "lights_power_rating_hostel_improved[:, 7] = np.full(len(lights_power_rating_hostel[:, 0]), 9)\n",
    "lights_power_rating_hostel_improved[:, 9] = np.full(len(lights_power_rating_hostel[:, 0]), 9)"
   ]
  },
  {
   "cell_type": "code",
   "execution_count": 194,
   "id": "cd7802e1",
   "metadata": {},
   "outputs": [
    {
     "data": {
      "text/plain": [
       "array([ 60192. ,      0. ,  81864. ,  51840. ,  98514. ,  38880. ,\n",
       "            0. ,  62208. , 161280. ,  15091.2])"
      ]
     },
     "execution_count": 194,
     "metadata": {},
     "output_type": "execute_result"
    }
   ],
   "source": [
    "energy_consumption_hostel_improved_array = np.multiply(np.multiply(lights_count_hostel, lights_time_hostel), lights_power_rating_hostel_improved)\n",
    "np.sum(energy_consumption_hostel_improved_array, axis =0)"
   ]
  },
  {
   "cell_type": "code",
   "execution_count": 203,
   "id": "4e1cf4ef",
   "metadata": {},
   "outputs": [
    {
     "data": {
      "text/plain": [
       "569.8692"
      ]
     },
     "execution_count": 203,
     "metadata": {},
     "output_type": "execute_result"
    }
   ],
   "source": [
    "total_hostel_improved = np.sum(energy_consumption_hostel_improved_array)\n",
    "total_hostel_improved/1000"
   ]
  },
  {
   "cell_type": "code",
   "execution_count": 204,
   "id": "f32997d4",
   "metadata": {},
   "outputs": [
    {
     "name": "stdout",
     "output_type": "stream",
     "text": [
      "Savings =  328.955 kWh per day\n"
     ]
    }
   ],
   "source": [
    "savings_hostel = total_hostel - total_hostel_improved\n",
    "print(\"Savings = \", round(savings_hostel/1000, 3), \"kWh per day\")"
   ]
  },
  {
   "cell_type": "markdown",
   "id": "57789a5d",
   "metadata": {},
   "source": [
    "# Academic Block"
   ]
  },
  {
   "cell_type": "code",
   "execution_count": 188,
   "id": "1d5bc63a",
   "metadata": {},
   "outputs": [],
   "source": [
    "file_4 = open('lights-count-ab.csv')\n",
    "csvreader = csv.reader(file_4)\n",
    "rows = []\n",
    "for row in csvreader:\n",
    "        rows.append(row)\n",
    "lights_count_ab = np.array(rows).astype('float64')"
   ]
  },
  {
   "cell_type": "code",
   "execution_count": 189,
   "id": "6a718e3d",
   "metadata": {},
   "outputs": [],
   "source": [
    "file_5 = open('lights-time-ab.csv')\n",
    "csvreader = csv.reader(file_5)\n",
    "rows = []\n",
    "for row in csvreader:\n",
    "        rows.append(row)\n",
    "lights_time_ab = np.array(rows).astype('float64')"
   ]
  },
  {
   "cell_type": "code",
   "execution_count": 176,
   "id": "a98e55cd",
   "metadata": {},
   "outputs": [],
   "source": [
    "file_6 = open('lights-power-rating-ab.csv')\n",
    "csvreader = csv.reader(file_6)\n",
    "rows = []\n",
    "for row in csvreader:\n",
    "        rows.append(row)\n",
    "lights_power_rating_ab = np.array(rows).astype('float64')"
   ]
  },
  {
   "cell_type": "code",
   "execution_count": 190,
   "id": "842b4425",
   "metadata": {},
   "outputs": [],
   "source": [
    "energy_consumption_ab_array = np.multiply(np.multiply(lights_count_ab, lights_time_ab), lights_power_rating_ab)"
   ]
  },
  {
   "cell_type": "code",
   "execution_count": 191,
   "id": "73916426",
   "metadata": {},
   "outputs": [
    {
     "data": {
      "text/plain": [
       "array([1568332.8,   59673.6,  135475.2,  158400. ,   19200. ])"
      ]
     },
     "execution_count": 191,
     "metadata": {},
     "output_type": "execute_result"
    }
   ],
   "source": [
    "total_for_each_light_type_ab = np.sum(energy_consumption_ab_array, axis =0)\n",
    "total_for_each_light_type_ab"
   ]
  },
  {
   "cell_type": "code",
   "execution_count": 192,
   "id": "65e4c128",
   "metadata": {},
   "outputs": [
    {
     "data": {
      "text/plain": [
       "1941.0816"
      ]
     },
     "execution_count": 192,
     "metadata": {},
     "output_type": "execute_result"
    }
   ],
   "source": [
    "total_ab = np.sum(energy_consumption_ab_array)\n",
    "total_ab/1000"
   ]
  },
  {
   "cell_type": "markdown",
   "id": "1badbd30",
   "metadata": {},
   "source": [
    "What if we switch to LED alternatives? \n",
    "\n",
    "We keep the lights_count and the lights_time matrices as the same. We simply modify the lights_power_rating matrix with the power ratings of LED alternatives.\n",
    "\n",
    "1. Replace 2 x $H$ with 2 x $L$.\n",
    "3. Replace $T$ with $L$.\n",
    "4. Replace $\\alpha^2$ with 5 W mini LED tubes.\n",
    "5. Replace $U$ with 9 W small LED."
   ]
  },
  {
   "cell_type": "code",
   "execution_count": 197,
   "id": "8430921d",
   "metadata": {},
   "outputs": [],
   "source": [
    "lights_power_rating_ab_improved = lights_power_rating_ab\n",
    "lights_power_rating_ab_improved[:, 0] = np.full(len(lights_power_rating_ab[:, 0]), 36)\n",
    "lights_power_rating_ab_improved[:, 1] = np.full(len(lights_power_rating_ab[:, 0]), 18)\n",
    "lights_power_rating_ab_improved[:, 3] = np.full(len(lights_power_rating_ab[:, 0]), 5)\n",
    "lights_power_rating_ab_improved[:, 4] = np.full(len(lights_power_rating_ab[:, 0]), 9)"
   ]
  },
  {
   "cell_type": "code",
   "execution_count": 198,
   "id": "d1f8e63f",
   "metadata": {},
   "outputs": [
    {
     "data": {
      "text/plain": [
       "array([784166.4,  38361.6, 135475.2,  36000. ,   8640. ])"
      ]
     },
     "execution_count": 198,
     "metadata": {},
     "output_type": "execute_result"
    }
   ],
   "source": [
    "energy_consumption_ab_improved_array = np.multiply(np.multiply(lights_count_ab, lights_time_ab), lights_power_rating_ab_improved)\n",
    "np.sum(energy_consumption_ab_improved_array, axis =0)"
   ]
  },
  {
   "cell_type": "code",
   "execution_count": 200,
   "id": "73570c19",
   "metadata": {},
   "outputs": [
    {
     "data": {
      "text/plain": [
       "1002.6432"
      ]
     },
     "execution_count": 200,
     "metadata": {},
     "output_type": "execute_result"
    }
   ],
   "source": [
    "total_ab_improved = np.sum(energy_consumption_ab_improved_array)\n",
    "total_ab_improved/1000"
   ]
  },
  {
   "cell_type": "code",
   "execution_count": 202,
   "id": "f2fcbdb3",
   "metadata": {},
   "outputs": [
    {
     "name": "stdout",
     "output_type": "stream",
     "text": [
      "Savings (AB) =  938.438 kWh per day\n"
     ]
    }
   ],
   "source": [
    "savings_ab = total_ab - total_ab_improved\n",
    "print(\"Savings (AB) = \", round(savings_ab/1000, 3), \"kWh per day\")"
   ]
  },
  {
   "cell_type": "code",
   "execution_count": 19,
   "id": "204a1602",
   "metadata": {},
   "outputs": [
    {
     "data": {
      "text/plain": [
       "3926.853"
      ]
     },
     "execution_count": 19,
     "metadata": {},
     "output_type": "execute_result"
    }
   ],
   "source": [
    "total_energy_consumption_due_to_lights = 0.0946*(480+160+166) + 0.1989*(998+1688+2400) + 898 + 1941\n",
    "total_energy_consumption_due_to_lights"
   ]
  },
  {
   "cell_type": "code",
   "execution_count": 21,
   "id": "976c00c2",
   "metadata": {},
   "outputs": [
    {
     "name": "stdout",
     "output_type": "stream",
     "text": [
      "percentage of energy consumption due to lights 15.62 %\n"
     ]
    }
   ],
   "source": [
    "print(\"percentage of energy consumption due to lights\", round(total_energy_consumption_due_to_lights/25139 *100,2), \"%\")"
   ]
  },
  {
   "cell_type": "code",
   "execution_count": 22,
   "id": "2364c206",
   "metadata": {},
   "outputs": [
    {
     "data": {
      "text/plain": [
       "1783.2242"
      ]
     },
     "execution_count": 22,
     "metadata": {},
     "output_type": "execute_result"
    }
   ],
   "source": [
    "savings_calculation = 0.0347*(480+160+166) + 0.096*(998+1688+2400) + 329 + 938\n",
    "savings_calculation"
   ]
  },
  {
   "cell_type": "markdown",
   "id": "44dd0f36",
   "metadata": {},
   "source": [
    "For $L$, $\\ell$ and $m$"
   ]
  },
  {
   "cell_type": "code",
   "execution_count": 23,
   "id": "9c47597b",
   "metadata": {},
   "outputs": [
    {
     "data": {
      "text/plain": [
       "4850.674"
      ]
     },
     "execution_count": 23,
     "metadata": {},
     "output_type": "execute_result"
    }
   ],
   "source": [
    "N_of_L = 0.041*(480+160+166) + 0.298*(998+1688+2400) + 390 + 2912\n",
    "N_of_L"
   ]
  },
  {
   "cell_type": "code",
   "execution_count": 24,
   "id": "f10a6fa8",
   "metadata": {},
   "outputs": [
    {
     "data": {
      "text/plain": [
       "1123.362"
      ]
     },
     "execution_count": 24,
     "metadata": {},
     "output_type": "execute_result"
    }
   ],
   "source": [
    "N_of_ell = 0.103*(480+160+166) + 0.004*(998+1688+2400) + 980 + 40\n",
    "N_of_ell"
   ]
  },
  {
   "cell_type": "code",
   "execution_count": 25,
   "id": "23512f14",
   "metadata": {},
   "outputs": [
    {
     "data": {
      "text/plain": [
       "1413.182"
      ]
     },
     "execution_count": 25,
     "metadata": {},
     "output_type": "execute_result"
    }
   ],
   "source": [
    "N_of_m = 0.071*(480+160+166) + 0.046*(998+1688+2400) + 450 + 672\n",
    "N_of_m "
   ]
  },
  {
   "cell_type": "code",
   "execution_count": 26,
   "id": "3bab608a",
   "metadata": {},
   "outputs": [
    {
     "data": {
      "text/plain": [
       "1518360"
      ]
     },
     "execution_count": 26,
     "metadata": {},
     "output_type": "execute_result"
    }
   ],
   "source": [
    "total_cost_replac_drive = 230*4850 + 170*1123 + 150*1413\n",
    "total_cost_replac_drive"
   ]
  },
  {
   "cell_type": "code",
   "execution_count": 27,
   "id": "7ac99bc6",
   "metadata": {},
   "outputs": [
    {
     "data": {
      "text/plain": [
       "104.71448275862069"
      ]
     },
     "execution_count": 27,
     "metadata": {},
     "output_type": "execute_result"
    }
   ],
   "source": [
    "payback_period = total_cost_replac_drive/14500  #14500 is the savings cost/day.\n",
    "payback_period"
   ]
  }
 ],
 "metadata": {
  "kernelspec": {
   "display_name": "Python 3 (ipykernel)",
   "language": "python",
   "name": "python3"
  },
  "language_info": {
   "codemirror_mode": {
    "name": "ipython",
    "version": 3
   },
   "file_extension": ".py",
   "mimetype": "text/x-python",
   "name": "python",
   "nbconvert_exporter": "python",
   "pygments_lexer": "ipython3",
   "version": "3.9.7"
  }
 },
 "nbformat": 4,
 "nbformat_minor": 5
}
